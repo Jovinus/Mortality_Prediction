{
 "cells": [
  {
   "cell_type": "markdown",
   "metadata": {},
   "source": [
    "# CatBoost(XGBoost) Analysis"
   ]
  },
  {
   "cell_type": "code",
   "execution_count": 1,
   "metadata": {},
   "outputs": [],
   "source": [
    "import pandas as pd\n",
    "import catboost\n",
    "from IPython.display import display\n",
    "import matplotlib.pyplot as plt\n",
    "import seaborn as sns\n",
    "from sklearn.model_selection import train_test_split\n",
    "pd.options.display.max_columns = None"
   ]
  },
  {
   "cell_type": "markdown",
   "metadata": {},
   "source": [
    "## Load Data"
   ]
  },
  {
   "cell_type": "code",
   "execution_count": 2,
   "metadata": {},
   "outputs": [
    {
     "data": {
      "text/html": [
       "<div>\n",
       "<style scoped>\n",
       "    .dataframe tbody tr th:only-of-type {\n",
       "        vertical-align: middle;\n",
       "    }\n",
       "\n",
       "    .dataframe tbody tr th {\n",
       "        vertical-align: top;\n",
       "    }\n",
       "\n",
       "    .dataframe thead th {\n",
       "        text-align: right;\n",
       "    }\n",
       "</style>\n",
       "<table border=\"1\" class=\"dataframe\">\n",
       "  <thead>\n",
       "    <tr style=\"text-align: right;\">\n",
       "      <th></th>\n",
       "      <th>caseid</th>\n",
       "      <th>age</th>\n",
       "      <th>sex</th>\n",
       "      <th>bmi</th>\n",
       "      <th>asa</th>\n",
       "      <th>emop</th>\n",
       "      <th>anedur</th>\n",
       "      <th>los_postop</th>\n",
       "      <th>los_icu</th>\n",
       "      <th>death_inhosp</th>\n",
       "      <th>preop_htn</th>\n",
       "      <th>preop_dm</th>\n",
       "      <th>preop_arrhythmia</th>\n",
       "      <th>preop_pft</th>\n",
       "      <th>preop_hb</th>\n",
       "      <th>preop_plt</th>\n",
       "      <th>preop_pt</th>\n",
       "      <th>preop_aptt</th>\n",
       "      <th>preop_na</th>\n",
       "      <th>preop_k</th>\n",
       "      <th>preop_glucose</th>\n",
       "      <th>preop_alb</th>\n",
       "      <th>preop_got</th>\n",
       "      <th>preop_gpt</th>\n",
       "      <th>preop_bun</th>\n",
       "      <th>preop_cr</th>\n",
       "      <th>intraop_epi</th>\n",
       "      <th>intraop_ca</th>\n",
       "      <th>WBC</th>\n",
       "      <th>Hb</th>\n",
       "      <th>PLT</th>\n",
       "      <th>Albumin</th>\n",
       "      <th>GOT (AST)</th>\n",
       "      <th>GPT (ALT)</th>\n",
       "      <th>Creatinine</th>\n",
       "      <th>Sodium</th>\n",
       "      <th>Potassium</th>\n",
       "      <th>Chloride</th>\n",
       "      <th>hs-CRP quantitation</th>\n",
       "      <th>PT (INR)</th>\n",
       "      <th>aPTT</th>\n",
       "      <th>Fibrinogen</th>\n",
       "      <th>pH</th>\n",
       "      <th>pCO₂</th>\n",
       "      <th>pO₂</th>\n",
       "      <th>HCO3-</th>\n",
       "      <th>BE</th>\n",
       "      <th>Calcium</th>\n",
       "      <th>Glucose</th>\n",
       "      <th>Lactic acid</th>\n",
       "    </tr>\n",
       "  </thead>\n",
       "  <tbody>\n",
       "    <tr>\n",
       "      <th>0</th>\n",
       "      <td>1</td>\n",
       "      <td>77.0</td>\n",
       "      <td>1</td>\n",
       "      <td>26.3</td>\n",
       "      <td>2.0</td>\n",
       "      <td>0</td>\n",
       "      <td>180</td>\n",
       "      <td>8</td>\n",
       "      <td>0</td>\n",
       "      <td>0</td>\n",
       "      <td>1</td>\n",
       "      <td>0</td>\n",
       "      <td>0</td>\n",
       "      <td>Normal</td>\n",
       "      <td>14.1</td>\n",
       "      <td>189.0</td>\n",
       "      <td>94.0</td>\n",
       "      <td>33.2</td>\n",
       "      <td>141.0</td>\n",
       "      <td>3.1</td>\n",
       "      <td>134.0</td>\n",
       "      <td>4.3</td>\n",
       "      <td>18.0</td>\n",
       "      <td>16.0</td>\n",
       "      <td>10.0</td>\n",
       "      <td>0.82</td>\n",
       "      <td>0</td>\n",
       "      <td>0</td>\n",
       "      <td>NaN</td>\n",
       "      <td>NaN</td>\n",
       "      <td>NaN</td>\n",
       "      <td>NaN</td>\n",
       "      <td>NaN</td>\n",
       "      <td>NaN</td>\n",
       "      <td>NaN</td>\n",
       "      <td>138.0</td>\n",
       "      <td>3.1</td>\n",
       "      <td>100.0</td>\n",
       "      <td>NaN</td>\n",
       "      <td>NaN</td>\n",
       "      <td>NaN</td>\n",
       "      <td>NaN</td>\n",
       "      <td>NaN</td>\n",
       "      <td>NaN</td>\n",
       "      <td>NaN</td>\n",
       "      <td>NaN</td>\n",
       "      <td>NaN</td>\n",
       "      <td>NaN</td>\n",
       "      <td>NaN</td>\n",
       "      <td>NaN</td>\n",
       "    </tr>\n",
       "    <tr>\n",
       "      <th>1</th>\n",
       "      <td>2</td>\n",
       "      <td>54.0</td>\n",
       "      <td>1</td>\n",
       "      <td>19.6</td>\n",
       "      <td>2.0</td>\n",
       "      <td>0</td>\n",
       "      <td>245</td>\n",
       "      <td>19</td>\n",
       "      <td>0</td>\n",
       "      <td>0</td>\n",
       "      <td>0</td>\n",
       "      <td>0</td>\n",
       "      <td>0</td>\n",
       "      <td>Normal</td>\n",
       "      <td>10.2</td>\n",
       "      <td>251.0</td>\n",
       "      <td>110.0</td>\n",
       "      <td>31.9</td>\n",
       "      <td>143.0</td>\n",
       "      <td>4.7</td>\n",
       "      <td>88.0</td>\n",
       "      <td>3.8</td>\n",
       "      <td>18.0</td>\n",
       "      <td>15.0</td>\n",
       "      <td>14.0</td>\n",
       "      <td>0.86</td>\n",
       "      <td>0</td>\n",
       "      <td>0</td>\n",
       "      <td>4.36</td>\n",
       "      <td>10.2</td>\n",
       "      <td>251.0</td>\n",
       "      <td>NaN</td>\n",
       "      <td>NaN</td>\n",
       "      <td>NaN</td>\n",
       "      <td>NaN</td>\n",
       "      <td>143.0</td>\n",
       "      <td>4.7</td>\n",
       "      <td>115.0</td>\n",
       "      <td>NaN</td>\n",
       "      <td>NaN</td>\n",
       "      <td>NaN</td>\n",
       "      <td>NaN</td>\n",
       "      <td>NaN</td>\n",
       "      <td>NaN</td>\n",
       "      <td>NaN</td>\n",
       "      <td>NaN</td>\n",
       "      <td>NaN</td>\n",
       "      <td>NaN</td>\n",
       "      <td>NaN</td>\n",
       "      <td>NaN</td>\n",
       "    </tr>\n",
       "    <tr>\n",
       "      <th>2</th>\n",
       "      <td>3</td>\n",
       "      <td>62.0</td>\n",
       "      <td>1</td>\n",
       "      <td>24.4</td>\n",
       "      <td>1.0</td>\n",
       "      <td>0</td>\n",
       "      <td>65</td>\n",
       "      <td>2</td>\n",
       "      <td>0</td>\n",
       "      <td>0</td>\n",
       "      <td>0</td>\n",
       "      <td>0</td>\n",
       "      <td>0</td>\n",
       "      <td>Normal</td>\n",
       "      <td>14.2</td>\n",
       "      <td>373.0</td>\n",
       "      <td>103.0</td>\n",
       "      <td>30.3</td>\n",
       "      <td>144.0</td>\n",
       "      <td>4.9</td>\n",
       "      <td>87.0</td>\n",
       "      <td>4.2</td>\n",
       "      <td>17.0</td>\n",
       "      <td>34.0</td>\n",
       "      <td>14.0</td>\n",
       "      <td>1.18</td>\n",
       "      <td>0</td>\n",
       "      <td>0</td>\n",
       "      <td>NaN</td>\n",
       "      <td>NaN</td>\n",
       "      <td>NaN</td>\n",
       "      <td>NaN</td>\n",
       "      <td>NaN</td>\n",
       "      <td>NaN</td>\n",
       "      <td>NaN</td>\n",
       "      <td>NaN</td>\n",
       "      <td>NaN</td>\n",
       "      <td>NaN</td>\n",
       "      <td>NaN</td>\n",
       "      <td>NaN</td>\n",
       "      <td>NaN</td>\n",
       "      <td>NaN</td>\n",
       "      <td>NaN</td>\n",
       "      <td>NaN</td>\n",
       "      <td>NaN</td>\n",
       "      <td>NaN</td>\n",
       "      <td>NaN</td>\n",
       "      <td>NaN</td>\n",
       "      <td>NaN</td>\n",
       "      <td>NaN</td>\n",
       "    </tr>\n",
       "    <tr>\n",
       "      <th>3</th>\n",
       "      <td>4</td>\n",
       "      <td>74.0</td>\n",
       "      <td>1</td>\n",
       "      <td>20.5</td>\n",
       "      <td>2.0</td>\n",
       "      <td>0</td>\n",
       "      <td>335</td>\n",
       "      <td>7</td>\n",
       "      <td>1</td>\n",
       "      <td>0</td>\n",
       "      <td>1</td>\n",
       "      <td>0</td>\n",
       "      <td>0</td>\n",
       "      <td>Normal</td>\n",
       "      <td>14.4</td>\n",
       "      <td>275.0</td>\n",
       "      <td>103.0</td>\n",
       "      <td>34.5</td>\n",
       "      <td>141.0</td>\n",
       "      <td>4.2</td>\n",
       "      <td>108.0</td>\n",
       "      <td>4.1</td>\n",
       "      <td>23.0</td>\n",
       "      <td>18.0</td>\n",
       "      <td>10.0</td>\n",
       "      <td>0.96</td>\n",
       "      <td>0</td>\n",
       "      <td>0</td>\n",
       "      <td>NaN</td>\n",
       "      <td>NaN</td>\n",
       "      <td>NaN</td>\n",
       "      <td>NaN</td>\n",
       "      <td>NaN</td>\n",
       "      <td>NaN</td>\n",
       "      <td>NaN</td>\n",
       "      <td>144.0</td>\n",
       "      <td>4.3</td>\n",
       "      <td>108.0</td>\n",
       "      <td>NaN</td>\n",
       "      <td>NaN</td>\n",
       "      <td>NaN</td>\n",
       "      <td>NaN</td>\n",
       "      <td>NaN</td>\n",
       "      <td>NaN</td>\n",
       "      <td>NaN</td>\n",
       "      <td>NaN</td>\n",
       "      <td>NaN</td>\n",
       "      <td>NaN</td>\n",
       "      <td>NaN</td>\n",
       "      <td>NaN</td>\n",
       "    </tr>\n",
       "    <tr>\n",
       "      <th>4</th>\n",
       "      <td>5</td>\n",
       "      <td>66.0</td>\n",
       "      <td>1</td>\n",
       "      <td>20.4</td>\n",
       "      <td>3.0</td>\n",
       "      <td>1</td>\n",
       "      <td>350</td>\n",
       "      <td>45</td>\n",
       "      <td>13</td>\n",
       "      <td>0</td>\n",
       "      <td>1</td>\n",
       "      <td>0</td>\n",
       "      <td>1</td>\n",
       "      <td>Normal</td>\n",
       "      <td>10.1</td>\n",
       "      <td>67.0</td>\n",
       "      <td>73.0</td>\n",
       "      <td>36.5</td>\n",
       "      <td>146.0</td>\n",
       "      <td>4.4</td>\n",
       "      <td>126.0</td>\n",
       "      <td>2.6</td>\n",
       "      <td>765.0</td>\n",
       "      <td>77.0</td>\n",
       "      <td>50.0</td>\n",
       "      <td>4.43</td>\n",
       "      <td>0</td>\n",
       "      <td>2100</td>\n",
       "      <td>14.64</td>\n",
       "      <td>15.3</td>\n",
       "      <td>158.0</td>\n",
       "      <td>4.6</td>\n",
       "      <td>64.0</td>\n",
       "      <td>30.0</td>\n",
       "      <td>1.83</td>\n",
       "      <td>139.0</td>\n",
       "      <td>4.9</td>\n",
       "      <td>108.0</td>\n",
       "      <td>NaN</td>\n",
       "      <td>NaN</td>\n",
       "      <td>NaN</td>\n",
       "      <td>NaN</td>\n",
       "      <td>NaN</td>\n",
       "      <td>NaN</td>\n",
       "      <td>NaN</td>\n",
       "      <td>NaN</td>\n",
       "      <td>NaN</td>\n",
       "      <td>9.9</td>\n",
       "      <td>140.0</td>\n",
       "      <td>NaN</td>\n",
       "    </tr>\n",
       "  </tbody>\n",
       "</table>\n",
       "</div>"
      ],
      "text/plain": [
       "   caseid   age  sex   bmi  asa  emop  anedur  los_postop  los_icu  \\\n",
       "0       1  77.0    1  26.3  2.0     0     180           8        0   \n",
       "1       2  54.0    1  19.6  2.0     0     245          19        0   \n",
       "2       3  62.0    1  24.4  1.0     0      65           2        0   \n",
       "3       4  74.0    1  20.5  2.0     0     335           7        1   \n",
       "4       5  66.0    1  20.4  3.0     1     350          45       13   \n",
       "\n",
       "   death_inhosp  preop_htn  preop_dm  preop_arrhythmia preop_pft  preop_hb  \\\n",
       "0             0          1         0                 0    Normal      14.1   \n",
       "1             0          0         0                 0    Normal      10.2   \n",
       "2             0          0         0                 0    Normal      14.2   \n",
       "3             0          1         0                 0    Normal      14.4   \n",
       "4             0          1         0                 1    Normal      10.1   \n",
       "\n",
       "   preop_plt  preop_pt  preop_aptt  preop_na  preop_k  preop_glucose  \\\n",
       "0      189.0      94.0        33.2     141.0      3.1          134.0   \n",
       "1      251.0     110.0        31.9     143.0      4.7           88.0   \n",
       "2      373.0     103.0        30.3     144.0      4.9           87.0   \n",
       "3      275.0     103.0        34.5     141.0      4.2          108.0   \n",
       "4       67.0      73.0        36.5     146.0      4.4          126.0   \n",
       "\n",
       "   preop_alb  preop_got  preop_gpt  preop_bun  preop_cr  intraop_epi  \\\n",
       "0        4.3       18.0       16.0       10.0      0.82            0   \n",
       "1        3.8       18.0       15.0       14.0      0.86            0   \n",
       "2        4.2       17.0       34.0       14.0      1.18            0   \n",
       "3        4.1       23.0       18.0       10.0      0.96            0   \n",
       "4        2.6      765.0       77.0       50.0      4.43            0   \n",
       "\n",
       "   intraop_ca    WBC    Hb    PLT  Albumin  GOT (AST)  GPT (ALT)  Creatinine  \\\n",
       "0           0    NaN   NaN    NaN      NaN        NaN        NaN         NaN   \n",
       "1           0   4.36  10.2  251.0      NaN        NaN        NaN         NaN   \n",
       "2           0    NaN   NaN    NaN      NaN        NaN        NaN         NaN   \n",
       "3           0    NaN   NaN    NaN      NaN        NaN        NaN         NaN   \n",
       "4        2100  14.64  15.3  158.0      4.6       64.0       30.0        1.83   \n",
       "\n",
       "   Sodium  Potassium  Chloride  hs-CRP quantitation  PT (INR)  aPTT  \\\n",
       "0   138.0        3.1     100.0                  NaN       NaN   NaN   \n",
       "1   143.0        4.7     115.0                  NaN       NaN   NaN   \n",
       "2     NaN        NaN       NaN                  NaN       NaN   NaN   \n",
       "3   144.0        4.3     108.0                  NaN       NaN   NaN   \n",
       "4   139.0        4.9     108.0                  NaN       NaN   NaN   \n",
       "\n",
       "   Fibrinogen  pH  pCO₂  pO₂  HCO3-  BE  Calcium  Glucose  Lactic acid  \n",
       "0         NaN NaN   NaN  NaN    NaN NaN      NaN      NaN          NaN  \n",
       "1         NaN NaN   NaN  NaN    NaN NaN      NaN      NaN          NaN  \n",
       "2         NaN NaN   NaN  NaN    NaN NaN      NaN      NaN          NaN  \n",
       "3         NaN NaN   NaN  NaN    NaN NaN      NaN      NaN          NaN  \n",
       "4         NaN NaN   NaN  NaN    NaN NaN      9.9    140.0          NaN  "
      ]
     },
     "execution_count": 2,
     "metadata": {},
     "output_type": "execute_result"
    }
   ],
   "source": [
    "df = pd.read_csv('data_preop_preprocessed.csv')\n",
    "df.head()"
   ]
  },
  {
   "cell_type": "code",
   "execution_count": 3,
   "metadata": {},
   "outputs": [],
   "source": [
    "X = df.drop(columns=['caseid', 'death_inhosp', 'anedur', 'los_postop', 'los_icu', 'asa'])\n",
    "y = df['death_inhosp']"
   ]
  },
  {
   "cell_type": "code",
   "execution_count": 4,
   "metadata": {},
   "outputs": [],
   "source": [
    "X_train, X_test, y_train, y_test = train_test_split(X, y, test_size=0.3, random_state=1004, stratify=y)"
   ]
  },
  {
   "cell_type": "markdown",
   "metadata": {},
   "source": [
    "## Simple CatBoost Classifier"
   ]
  },
  {
   "cell_type": "code",
   "execution_count": 5,
   "metadata": {},
   "outputs": [],
   "source": [
    "model = catboost.CatBoostClassifier(iterations=500, learning_rate=0.03, task_type='GPU')"
   ]
  },
  {
   "cell_type": "code",
   "execution_count": 6,
   "metadata": {},
   "outputs": [
    {
     "data": {
      "text/plain": [
       "<catboost.core.CatBoostClassifier at 0x7fccad04d290>"
      ]
     },
     "execution_count": 6,
     "metadata": {},
     "output_type": "execute_result"
    }
   ],
   "source": [
    "model.fit(X=X_train, y=y_train, cat_features=['preop_pft'], verbose=0)"
   ]
  },
  {
   "cell_type": "markdown",
   "metadata": {},
   "source": [
    "## Metric"
   ]
  },
  {
   "cell_type": "code",
   "execution_count": 7,
   "metadata": {},
   "outputs": [
    {
     "name": "stdout",
     "output_type": "stream",
     "text": [
      "0.9472153880563632\n",
      "0.9327073552425665\n"
     ]
    }
   ],
   "source": [
    "## Accuracy\n",
    "print(model.score(X_train, y_train))\n",
    "print(model.score(X_test, y_test))"
   ]
  },
  {
   "cell_type": "markdown",
   "metadata": {},
   "source": [
    "### ROC Curve with AUROC"
   ]
  },
  {
   "cell_type": "code",
   "execution_count": 8,
   "metadata": {},
   "outputs": [
    {
     "name": "stdout",
     "output_type": "stream",
     "text": [
      "AUROC: 0.799841358467824\n"
     ]
    },
    {
     "data": {
      "text/plain": [
       "<sklearn.metrics._plot.roc_curve.RocCurveDisplay at 0x7fccad04d3d0>"
      ]
     },
     "execution_count": 8,
     "metadata": {},
     "output_type": "execute_result"
    },
    {
     "data": {
      "image/png": "[encoded data removed]",
      "text/plain": [
       "<Figure size 432x288 with 1 Axes>"
      ]
     },
     "metadata": {
      "needs_background": "light"
     },
     "output_type": "display_data"
    }
   ],
   "source": [
    "from sklearn.metrics import RocCurveDisplay\n",
    "from sklearn.metrics import roc_curve\n",
    "from sklearn.metrics import roc_auc_score\n",
    "\n",
    "y_test_proba = model.predict_proba(X_test)\n",
    "print(\"AUROC: {}\".format(roc_auc_score(y_test, y_test_proba[:, 1])))\n",
    "\n",
    "fpr, tpr, _ = roc_curve(y_test, y_test_proba[:, 1], pos_label=model.classes_[1])\n",
    "RocCurveDisplay(fpr=fpr, tpr=tpr).plot()"
   ]
  },
  {
   "cell_type": "markdown",
   "metadata": {},
   "source": [
    "### Precision Recall Curve with AUPRC"
   ]
  },
  {
   "cell_type": "code",
   "execution_count": 9,
   "metadata": {},
   "outputs": [
    {
     "name": "stdout",
     "output_type": "stream",
     "text": [
      "AUPRC: 0.2897512069499642\n"
     ]
    },
    {
     "data": {
      "text/plain": [
       "<Figure size 720x720 with 0 Axes>"
      ]
     },
     "metadata": {},
     "output_type": "display_data"
    },
    {
     "data": {
      "image/png": "[encoded data removed]",
      "text/plain": [
       "<Figure size 432x288 with 1 Axes>"
      ]
     },
     "metadata": {
      "needs_background": "light"
     },
     "output_type": "display_data"
    }
   ],
   "source": [
    "from sklearn.metrics import precision_recall_curve\n",
    "from sklearn.metrics import PrecisionRecallDisplay\n",
    "from sklearn.metrics import average_precision_score\n",
    "\n",
    "print(\"AUPRC: {}\".format(average_precision_score(y_test, y_test_proba[:, 1])))\n",
    "\n",
    "prec, recall, _ = precision_recall_curve(y_test, y_test_proba[:, 1], pos_label=model.classes_[1])\n",
    "\n",
    "plt.figure(figsize=(10,10))\n",
    "PrecisionRecallDisplay(precision=prec, recall=recall).plot()\n",
    "plt.show()"
   ]
  },
  {
   "cell_type": "markdown",
   "metadata": {},
   "source": [
    "## Feature Importance"
   ]
  },
  {
   "cell_type": "code",
   "execution_count": 10,
   "metadata": {},
   "outputs": [
    {
     "data": {
      "image/png": "[encoded data removed]",
      "text/plain": [
       "<Figure size 1152x1152 with 1 Axes>"
      ]
     },
     "metadata": {
      "needs_background": "light"
     },
     "output_type": "display_data"
    }
   ],
   "source": [
    "tmp = pd.DataFrame(model.feature_importances_, model.feature_names_, columns=['importance'])\n",
    "tmp.index = tmp.index.set_names(['feature'])\n",
    "tmp = tmp.reset_index()\n",
    "\n",
    "plt.figure(figsize=(16, 16))\n",
    "sns.barplot(data=tmp.sort_values(by='importance', ascending=False), x='importance', y='feature')\n",
    "plt.title('Feature Importances')\n",
    "plt.show()"
   ]
  }
 ],
 "metadata": {
  "kernelspec": {
   "display_name": "Python 3",
   "language": "python",
   "name": "python3"
  },
  "language_info": {
   "codemirror_mode": {
    "name": "ipython",
    "version": 3
   },
   "file_extension": ".py",
   "mimetype": "text/x-python",
   "name": "python",
   "nbconvert_exporter": "python",
   "pygments_lexer": "ipython3",
   "version": "3.7.7"
  }
 },
 "nbformat": 4,
 "nbformat_minor": 4
}
