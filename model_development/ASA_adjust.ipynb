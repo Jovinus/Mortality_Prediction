{
 "cells": [
  {
   "cell_type": "markdown",
   "metadata": {},
   "source": [
    "## Import Library"
   ]
  },
  {
   "cell_type": "code",
   "execution_count": 1,
   "metadata": {},
   "outputs": [],
   "source": [
    "import os\n",
    "#os.environ[\"KERAS_BACKEND\"] = \"plaidml.keras.backend\" #for Mac\n",
    "os.environ[\"CUDA_VISIBLE_DEVICES\"] = '1'\n",
    "#os.environ[\"CUDA_VISIBLE_DEVICES\"]='1'\n",
    "import tensorflow as tf\n",
    "import tensorflow.keras as keras\n",
    "from tensorflow.keras import backend as K\n",
    "import pandas as pd\n",
    "import numpy as np\n",
    "from sklearn.metrics import confusion_matrix\n",
    "from sklearn.preprocessing import StandardScaler\n",
    "from sklearn.model_selection import train_test_split\n",
    "import matplotlib.pyplot as plt\n",
    "pd.options.display.max_columns = None"
   ]
  },
  {
   "cell_type": "markdown",
   "metadata": {},
   "source": [
    "## Load Data and Preprocessing"
   ]
  },
  {
   "cell_type": "code",
   "execution_count": 2,
   "metadata": {},
   "outputs": [
    {
     "data": {
      "text/html": [
       "<style type='text/css'>\n",
       ".datatable table.frame { margin-bottom: 0; }\n",
       ".datatable table.frame thead { border-bottom: none; }\n",
       ".datatable table.frame tr.coltypes td {  color: #FFFFFF;  line-height: 6px;  padding: 0 0.5em;}\n",
       ".datatable .bool    { background: #DDDD99; }\n",
       ".datatable .object  { background: #565656; }\n",
       ".datatable .int     { background: #5D9E5D; }\n",
       ".datatable .float   { background: #4040CC; }\n",
       ".datatable .str     { background: #CC4040; }\n",
       ".datatable .row_index {  background: var(--jp-border-color3);  border-right: 1px solid var(--jp-border-color0);  color: var(--jp-ui-font-color3);  font-size: 9px;}\n",
       ".datatable .frame tr.coltypes .row_index {  background: var(--jp-border-color0);}\n",
       ".datatable th:nth-child(2) { padding-left: 12px; }\n",
       ".datatable .hellipsis {  color: var(--jp-cell-editor-border-color);}\n",
       ".datatable .vellipsis {  background: var(--jp-layout-color0);  color: var(--jp-cell-editor-border-color);}\n",
       ".datatable .na {  color: var(--jp-cell-editor-border-color);  font-size: 80%;}\n",
       ".datatable .footer { font-size: 9px; }\n",
       ".datatable .frame_dimensions {  background: var(--jp-border-color3);  border-top: 1px solid var(--jp-border-color0);  color: var(--jp-ui-font-color3);  display: inline-block;  opacity: 0.6;  padding: 1px 10px 1px 5px;}\n",
       ".datatable .frame thead tr.colnames {  background-image: url('data:image/png;base64,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');  background-repeat: repeat-x;  background-size: 14px;  height: 28px;}\n",
       "</style>\n"
      ],
      "text/plain": [
       "<IPython.core.display.HTML object>"
      ]
     },
     "metadata": {},
     "output_type": "display_data"
    }
   ],
   "source": [
    "import datatable\n",
    "df_amc = datatable.fread('./1205_asan_raw_v1.csv', na_strings=['']).to_pandas()\n",
    "df_eumc = datatable.fread('./1204_eumc_raw.csv', na_strings=['']).to_pandas()\n",
    "df_snuh = datatable.fread(\"./snuh_2004_2019_v2.csv\", na_strings=['']).to_pandas()\n",
    "df_snuh['sex'] = np.where(df_snuh['sex']=='M', 1, 0)\n",
    "df_eumc['sex'] = np.where(df_eumc['sex']==1, 1, 0)\n",
    "df_snuh = df_snuh[df_snuh['asa'].notnull()].reset_index(drop=True)\n",
    "df_amc = df_amc[df_amc['ASA'].notnull()].reset_index(drop=True)\n",
    "df_snuh['asa'] = np.where(df_snuh['asa'].isin([1, 2]), 1, 2)\n",
    "df_amc['asa'] = np.where(df_amc['ASA'].isin([1, 2]), 1, 2)"
   ]
  },
  {
   "cell_type": "markdown",
   "metadata": {},
   "source": [
    "df_amc['bmi'] = df_amc['weight'] / (df_amc['height']/100)**2"
   ]
  },
  {
   "cell_type": "markdown",
   "metadata": {},
   "source": [
    "### Variable Selection"
   ]
  },
  {
   "cell_type": "code",
   "execution_count": 3,
   "metadata": {},
   "outputs": [],
   "source": [
    "var_list = ['age','bmi','sex', 'preop_alb','preop_bun','preop_cr','preop_glu','preop_gpt','preop_got','preop_hb','preop_k','preop_na','preop_plt','preop_wbc', 'asa']"
   ]
  },
  {
   "cell_type": "markdown",
   "metadata": {},
   "source": [
    "## Train Test split"
   ]
  },
  {
   "cell_type": "code",
   "execution_count": 4,
   "metadata": {},
   "outputs": [
    {
     "name": "stderr",
     "output_type": "stream",
     "text": [
      "/home/khl256/anaconda3/envs/deeplearning/lib/python3.7/site-packages/pandas/core/generic.py:6245: SettingWithCopyWarning: \n",
      "A value is trying to be set on a copy of a slice from a DataFrame\n",
      "\n",
      "See the caveats in the documentation: https://pandas.pydata.org/pandas-docs/stable/user_guide/indexing.html#returning-a-view-versus-a-copy\n",
      "  self._update_inplace(new_data)\n"
     ]
    }
   ],
   "source": [
    "X_snuh = df_snuh[var_list]\n",
    "\n",
    "## Missing Imputation\n",
    "X_snuh.fillna(df_snuh.median(), inplace=True)\n",
    "y_snuh = df_snuh['death30']\n",
    "## Train Test Split\n",
    "X_train, X_test, y_train, y_test = train_test_split(X_snuh, y_snuh, test_size=0.2, stratify=y_snuh, random_state=1004)"
   ]
  },
  {
   "cell_type": "code",
   "execution_count": 5,
   "metadata": {},
   "outputs": [],
   "source": [
    "X_train_1 = X_train.drop(columns=['asa'])\n",
    "X_train_2 = X_train[['asa']]\n",
    "#X_train_2['asa'] = np.where(X_train_2['asa'].isin([1]), 0, 1) #binary code\n",
    "X_train_2 = pd.get_dummies(X_train_2['asa'], prefix='asa') # One-hot code\n",
    "X_train_3 = X_train_2['asa_2']\n",
    "X_train_2 = X_train_2['asa_1']\n",
    "\n",
    "X_test_1 = X_test.drop(columns=['asa'])\n",
    "X_test_2 = X_test[['asa']]\n",
    "#X_test_2['asa'] = np.where(X_test_2['asa'].isin([1]), 0, 1)\n",
    "X_test_2 = pd.get_dummies(X_test_2['asa'], prefix='asa') # One-hot code\n",
    "X_test_3 = X_test_2['asa_2']\n",
    "X_test_2 = X_test_2['asa_1']"
   ]
  },
  {
   "cell_type": "code",
   "execution_count": 6,
   "metadata": {},
   "outputs": [],
   "source": [
    "scaler = StandardScaler()\n",
    "scaler.fit(X_train_1)\n",
    "X_train_1 = pd.DataFrame(scaler.transform(X_train_1))\n",
    "X_test_1 = pd.DataFrame(scaler.transform(X_test_1))"
   ]
  },
  {
   "cell_type": "markdown",
   "metadata": {},
   "source": [
    "## Model"
   ]
  },
  {
   "cell_type": "code",
   "execution_count": 7,
   "metadata": {},
   "outputs": [],
   "source": [
    "def my_model(hidden_layer_num, node_size, drop_out_rate, learning_rate):\n",
    "    \n",
    "    ### clear memory\n",
    "    if K.backend() == 'tensorflow':\n",
    "        K.clear_session()\n",
    "\n",
    "    ### Input Layer\n",
    "    input_x = keras.layers.Input(shape=(14, ), name='input_feature')\n",
    "    input_adjust_1 = keras.layers.Input(shape=(1, ), name='adjust_feature_asa_1')\n",
    "    input_adjust_2 = keras.layers.Input(shape=(1, ), name='adjust_feature_asa_2')\n",
    "    \n",
    "    ## Feature Generation Part \n",
    "    \n",
    "    ### Hidden Layer 1\n",
    "    hidden_1_1 = keras.layers.Dense(node_size)(input_x)\n",
    "    hidden_1_2 = keras.layers.BatchNormalization()(hidden_1_1)\n",
    "    hidden_1_3 = keras.layers.ReLU()(hidden_1_2)\n",
    "    hidden_1_4 = keras.layers.Dropout(drop_out_rate)(hidden_1_3)\n",
    "    \n",
    "    ### Hidden Layer 2\n",
    "    hidden_2_1 = keras.layers.Dense(node_size)(hidden_1_4)\n",
    "    hidden_2_2 = keras.layers.BatchNormalization()(hidden_2_1)\n",
    "    hidden_2_3 = keras.layers.ReLU()(hidden_2_2)\n",
    "    hidden_2_4 = keras.layers.Dropout(drop_out_rate)(hidden_2_3)\n",
    "    \n",
    "    ### Hidden Layer 3\n",
    "    hidden_3_1 = keras.layers.Dense(node_size)(hidden_2_4)\n",
    "    hidden_3_2 = keras.layers.BatchNormalization()(hidden_3_1)\n",
    "    hidden_3_3 = keras.layers.ReLU()(hidden_3_2)\n",
    "    hidden_3_4 = keras.layers.Dropout(drop_out_rate)(hidden_3_3)\n",
    "    \n",
    "    ### Hidden Layer 4\n",
    "    hidden_4_1 = keras.layers.Dense(node_size)(hidden_3_4)\n",
    "    hidden_4_2 = keras.layers.BatchNormalization()(hidden_4_1)\n",
    "    hidden_4_3 = keras.layers.ReLU()(hidden_4_2)\n",
    "    hidden_4_4 = keras.layers.Dropout(drop_out_rate)(hidden_4_3)\n",
    "    \n",
    "    ### Hidden Layer 5\n",
    "    hidden_5_1 = keras.layers.Dense(node_size)(hidden_4_4)\n",
    "    hidden_5_2 = keras.layers.BatchNormalization()(hidden_5_1)\n",
    "    hidden_5_3 = keras.layers.ReLU()(hidden_5_2)\n",
    "    hidden_5_4 = keras.layers.Dropout(drop_out_rate)(hidden_5_3)\n",
    "    \n",
    "    \n",
    "    ##  Adjust Layers (ASA Class - 1~2, 2~5)\n",
    "    adjust_1_1 = tf.multiply(hidden_5_4, input_adjust_1)\n",
    "    adjust_1_2 = tf.multiply(hidden_5_4, input_adjust_2)\n",
    "    adjust_1 = keras.layers.concatenate([adjust_1_1, adjust_1_2])\n",
    "    \n",
    "    ### Hidden Layer 2_1\n",
    "    hidden_ad_1_1 = keras.layers.Dense(500)(adjust_1)\n",
    "    hidden_ad_1_2 = keras.layers.BatchNormalization()(hidden_ad_1_1)\n",
    "    hidden_ad_1_3 = keras.layers.ReLU()(hidden_ad_1_2)\n",
    "    hidden_ad_1_4 = keras.layers.Dropout(drop_out_rate)(hidden_ad_1_3)\n",
    "    \n",
    "    ### Hidden Layer 2_1\n",
    "    #hidden_ad_2_1 = keras.layers.Dense(node_size)(hidden_ad_1_4)\n",
    "    #hidden_ad_2_2 = keras.layers.BatchNormalization()(hidden_ad_2_1)\n",
    "    #hidden_ad_2_3 = keras.layers.ReLU()(hidden_ad_2_2)\n",
    "    #hidden_ad_2_4 = keras.layers.Dropout(drop_out_rate)(hidden_ad_2_3)\n",
    "    \n",
    "    output = keras.layers.Dense(1, activation='sigmoid', name='output')(hidden_ad_1_3)\n",
    "    \n",
    "    model = keras.Model(inputs=[input_x, input_adjust_1, input_adjust_2], outputs=[output])\n",
    "    \n",
    "    ### Compile\n",
    "    model.compile(optimizer= keras.optimizers.Adam(learning_rate), \n",
    "                  loss='binary_crossentropy', \n",
    "                  metrics=[\"accuracy\"])\n",
    "    \n",
    "    return model"
   ]
  },
  {
   "cell_type": "code",
   "execution_count": 8,
   "metadata": {},
   "outputs": [],
   "source": [
    "model = my_model(hidden_layer_num=5, node_size=1000, drop_out_rate=0.4, learning_rate=0.001)"
   ]
  },
  {
   "cell_type": "code",
   "execution_count": 9,
   "metadata": {},
   "outputs": [
    {
     "name": "stdout",
     "output_type": "stream",
     "text": [
      "Model: \"model\"\n",
      "__________________________________________________________________________________________________\n",
      "Layer (type)                    Output Shape         Param #     Connected to                     \n",
      "==================================================================================================\n",
      "input_feature (InputLayer)      [(None, 14)]         0                                            \n",
      "__________________________________________________________________________________________________\n",
      "dense (Dense)                   (None, 1000)         15000       input_feature[0][0]              \n",
      "__________________________________________________________________________________________________\n",
      "batch_normalization (BatchNorma (None, 1000)         4000        dense[0][0]                      \n",
      "__________________________________________________________________________________________________\n",
      "re_lu (ReLU)                    (None, 1000)         0           batch_normalization[0][0]        \n",
      "__________________________________________________________________________________________________\n",
      "dropout (Dropout)               (None, 1000)         0           re_lu[0][0]                      \n",
      "__________________________________________________________________________________________________\n",
      "dense_1 (Dense)                 (None, 1000)         1001000     dropout[0][0]                    \n",
      "__________________________________________________________________________________________________\n",
      "batch_normalization_1 (BatchNor (None, 1000)         4000        dense_1[0][0]                    \n",
      "__________________________________________________________________________________________________\n",
      "re_lu_1 (ReLU)                  (None, 1000)         0           batch_normalization_1[0][0]      \n",
      "__________________________________________________________________________________________________\n",
      "dropout_1 (Dropout)             (None, 1000)         0           re_lu_1[0][0]                    \n",
      "__________________________________________________________________________________________________\n",
      "dense_2 (Dense)                 (None, 1000)         1001000     dropout_1[0][0]                  \n",
      "__________________________________________________________________________________________________\n",
      "batch_normalization_2 (BatchNor (None, 1000)         4000        dense_2[0][0]                    \n",
      "__________________________________________________________________________________________________\n",
      "re_lu_2 (ReLU)                  (None, 1000)         0           batch_normalization_2[0][0]      \n",
      "__________________________________________________________________________________________________\n",
      "dropout_2 (Dropout)             (None, 1000)         0           re_lu_2[0][0]                    \n",
      "__________________________________________________________________________________________________\n",
      "dense_3 (Dense)                 (None, 1000)         1001000     dropout_2[0][0]                  \n",
      "__________________________________________________________________________________________________\n",
      "batch_normalization_3 (BatchNor (None, 1000)         4000        dense_3[0][0]                    \n",
      "__________________________________________________________________________________________________\n",
      "re_lu_3 (ReLU)                  (None, 1000)         0           batch_normalization_3[0][0]      \n",
      "__________________________________________________________________________________________________\n",
      "dropout_3 (Dropout)             (None, 1000)         0           re_lu_3[0][0]                    \n",
      "__________________________________________________________________________________________________\n",
      "dense_4 (Dense)                 (None, 1000)         1001000     dropout_3[0][0]                  \n",
      "__________________________________________________________________________________________________\n",
      "batch_normalization_4 (BatchNor (None, 1000)         4000        dense_4[0][0]                    \n",
      "__________________________________________________________________________________________________\n",
      "re_lu_4 (ReLU)                  (None, 1000)         0           batch_normalization_4[0][0]      \n",
      "__________________________________________________________________________________________________\n",
      "dropout_4 (Dropout)             (None, 1000)         0           re_lu_4[0][0]                    \n",
      "__________________________________________________________________________________________________\n",
      "adjust_feature_asa_1 (InputLaye [(None, 1)]          0                                            \n",
      "__________________________________________________________________________________________________\n",
      "adjust_feature_asa_2 (InputLaye [(None, 1)]          0                                            \n",
      "__________________________________________________________________________________________________\n",
      "tf_op_layer_Mul (TensorFlowOpLa [(None, 1000)]       0           dropout_4[0][0]                  \n",
      "                                                                 adjust_feature_asa_1[0][0]       \n",
      "__________________________________________________________________________________________________\n",
      "tf_op_layer_Mul_1 (TensorFlowOp [(None, 1000)]       0           dropout_4[0][0]                  \n",
      "                                                                 adjust_feature_asa_2[0][0]       \n",
      "__________________________________________________________________________________________________\n",
      "concatenate (Concatenate)       (None, 2000)         0           tf_op_layer_Mul[0][0]            \n",
      "                                                                 tf_op_layer_Mul_1[0][0]          \n",
      "__________________________________________________________________________________________________\n",
      "dense_5 (Dense)                 (None, 500)          1000500     concatenate[0][0]                \n",
      "__________________________________________________________________________________________________\n",
      "batch_normalization_5 (BatchNor (None, 500)          2000        dense_5[0][0]                    \n",
      "__________________________________________________________________________________________________\n",
      "re_lu_5 (ReLU)                  (None, 500)          0           batch_normalization_5[0][0]      \n",
      "__________________________________________________________________________________________________\n",
      "output (Dense)                  (None, 1)            501         re_lu_5[0][0]                    \n",
      "==================================================================================================\n",
      "Total params: 5,042,001\n",
      "Trainable params: 5,031,001\n",
      "Non-trainable params: 11,000\n",
      "__________________________________________________________________________________________________\n"
     ]
    }
   ],
   "source": [
    "model.summary()"
   ]
  },
  {
   "cell_type": "code",
   "execution_count": 10,
   "metadata": {},
   "outputs": [
    {
     "name": "stdout",
     "output_type": "stream",
     "text": [
      "Epoch 1/7\n",
      "659/659 [==============================] - 6s 10ms/step - loss: 0.0243 - accuracy: 0.9950 - val_loss: 0.0108 - val_accuracy: 0.9977\n",
      "Epoch 2/7\n",
      "659/659 [==============================] - 6s 9ms/step - loss: 0.0118 - accuracy: 0.9977 - val_loss: 0.0112 - val_accuracy: 0.9976\n",
      "Epoch 3/7\n",
      "659/659 [==============================] - 6s 9ms/step - loss: 0.0114 - accuracy: 0.9977 - val_loss: 0.0111 - val_accuracy: 0.9977\n",
      "Epoch 4/7\n",
      "659/659 [==============================] - 6s 9ms/step - loss: 0.0113 - accuracy: 0.9977 - val_loss: 0.0107 - val_accuracy: 0.9977\n",
      "Epoch 5/7\n",
      "659/659 [==============================] - 6s 9ms/step - loss: 0.0110 - accuracy: 0.9977 - val_loss: 0.0107 - val_accuracy: 0.9977\n",
      "Epoch 6/7\n",
      "659/659 [==============================] - 6s 9ms/step - loss: 0.0109 - accuracy: 0.9978 - val_loss: 0.0107 - val_accuracy: 0.9977\n",
      "Epoch 7/7\n",
      "659/659 [==============================] - 6s 9ms/step - loss: 0.0108 - accuracy: 0.9977 - val_loss: 0.0107 - val_accuracy: 0.9977\n"
     ]
    },
    {
     "data": {
      "text/plain": [
       "<tensorflow.python.keras.callbacks.History at 0x7f3cc8cd2b10>"
      ]
     },
     "execution_count": 10,
     "metadata": {},
     "output_type": "execute_result"
    }
   ],
   "source": [
    "model.fit((X_train_1, X_train_2, X_train_3), y_train, batch_size=2**8, epochs=7, validation_data=((X_test_1, X_test_2, X_test_3), y_test))"
   ]
  },
  {
   "cell_type": "code",
   "execution_count": 11,
   "metadata": {},
   "outputs": [],
   "source": [
    "#from sklearn.metrics import plot_roc_curve\n",
    "from sklearn.metrics import roc_curve\n",
    "from sklearn.metrics import roc_auc_score\n",
    "from sklearn.metrics import precision_recall_curve\n",
    "from sklearn.metrics import average_precision_score\n",
    "\n",
    "def plot_result(X_val_1, X_val_2, X_val_3, y_val):\n",
    "    y_test_proba = model.predict((X_val_1, X_val_2, X_val_3))\n",
    "    print(\"AUROC: {}\".format(roc_auc_score(y_val, y_test_proba)))\n",
    "\n",
    "    fpr, tpr, _ = roc_curve(y_val, y_test_proba)\n",
    "    #plot_roc_curve(estimator=model, X=fpr, y=tpr)\n",
    "    plt.figure(figsize=(10,10))\n",
    "    plt.xlabel('False Positive Rate')\n",
    "    plt.ylabel('True Positive Rate')\n",
    "    plt.title('ROC Curve')\n",
    "    plt.plot(fpr, tpr)\n",
    "    plt.show()\n",
    "\n",
    "    print(\"AUPRC: {}\".format(average_precision_score(y_val, y_test_proba)))\n",
    "\n",
    "    prec, recall, _ = precision_recall_curve(y_val, y_test_proba)\n",
    "\n",
    "    plt.figure(figsize=(10,10))\n",
    "    plt.plot(recall, prec)\n",
    "    plt.xlabel('Recall')\n",
    "    plt.ylabel('Precision')\n",
    "    plt.title('Precision-Recall Curve')\n",
    "    plt.show()"
   ]
  },
  {
   "cell_type": "markdown",
   "metadata": {},
   "source": [
    "## Internal Validation"
   ]
  },
  {
   "cell_type": "code",
   "execution_count": 12,
   "metadata": {},
   "outputs": [
    {
     "name": "stdout",
     "output_type": "stream",
     "text": [
      "AUROC: 0.9390171149327883\n"
     ]
    },
    {
     "data": {
      "image/png": "[encoded data removed]",
      "text/plain": [
       "<Figure size 720x720 with 1 Axes>"
      ]
     },
     "metadata": {
      "needs_background": "light"
     },
     "output_type": "display_data"
    },
    {
     "name": "stdout",
     "output_type": "stream",
     "text": [
      "AUPRC: 0.11523340486456746\n"
     ]
    },
    {
     "data": {
      "image/png": "[encoded data removed]",
      "text/plain": [
       "<Figure size 720x720 with 1 Axes>"
      ]
     },
     "metadata": {
      "needs_background": "light"
     },
     "output_type": "display_data"
    }
   ],
   "source": [
    "plot_result(X_val_1=X_test_1, X_val_2=X_test_2, X_val_3=X_test_3, y_val=y_test)"
   ]
  },
  {
   "cell_type": "markdown",
   "metadata": {},
   "source": [
    "## External Validation"
   ]
  },
  {
   "cell_type": "markdown",
   "metadata": {},
   "source": [
    "## Asan "
   ]
  },
  {
   "cell_type": "code",
   "execution_count": 13,
   "metadata": {},
   "outputs": [
    {
     "name": "stderr",
     "output_type": "stream",
     "text": [
      "/home/khl256/anaconda3/envs/deeplearning/lib/python3.7/site-packages/pandas/core/generic.py:6245: SettingWithCopyWarning: \n",
      "A value is trying to be set on a copy of a slice from a DataFrame\n",
      "\n",
      "See the caveats in the documentation: https://pandas.pydata.org/pandas-docs/stable/user_guide/indexing.html#returning-a-view-versus-a-copy\n",
      "  self._update_inplace(new_data)\n"
     ]
    }
   ],
   "source": [
    "X_amc = df_amc[var_list]\n",
    "X_amc.fillna(X_amc.median(), inplace=True)\n",
    "X_amc_1 = X_amc.drop(columns=['asa'])\n",
    "X_amc_2 = pd.get_dummies(X_amc['asa'], prefix='asa')\n",
    "X_amc_3 = X_amc_2['asa_2']\n",
    "X_amc_2 = X_amc_2['asa_1']\n",
    "\n",
    "X_amc_1 = pd.DataFrame(scaler.transform(X_amc_1))\n",
    "y_amc = df_amc['death30']*1"
   ]
  },
  {
   "cell_type": "code",
   "execution_count": 14,
   "metadata": {},
   "outputs": [
    {
     "name": "stdout",
     "output_type": "stream",
     "text": [
      "AUROC: 0.8939754960226753\n"
     ]
    },
    {
     "data": {
      "image/png": "[encoded data removed]",
      "text/plain": [
       "<Figure size 720x720 with 1 Axes>"
      ]
     },
     "metadata": {
      "needs_background": "light"
     },
     "output_type": "display_data"
    },
    {
     "name": "stdout",
     "output_type": "stream",
     "text": [
      "AUPRC: 0.10801477741040343\n"
     ]
    },
    {
     "data": {
      "image/png": "[encoded data removed]",
      "text/plain": [
       "<Figure size 720x720 with 1 Axes>"
      ]
     },
     "metadata": {
      "needs_background": "light"
     },
     "output_type": "display_data"
    }
   ],
   "source": [
    "plot_result(X_val_1=X_amc_1, X_val_2=X_amc_2, X_val_3=X_amc_3, y_val=y_amc)"
   ]
  },
  {
   "cell_type": "code",
   "execution_count": 1,
   "metadata": {},
   "outputs": [],
   "source": [
    "import pandas as pd"
   ]
  },
  {
   "cell_type": "code",
   "execution_count": 7,
   "metadata": {},
   "outputs": [],
   "source": [
    "df = pd.DataFrame({'numbers': [1, 2, 3], 'colors': ['red', 'white', 'blue']})"
   ]
  },
  {
   "cell_type": "code",
   "execution_count": 8,
   "metadata": {},
   "outputs": [
    {
     "data": {
      "text/html": [
       "<div>\n",
       "<style scoped>\n",
       "    .dataframe tbody tr th:only-of-type {\n",
       "        vertical-align: middle;\n",
       "    }\n",
       "\n",
       "    .dataframe tbody tr th {\n",
       "        vertical-align: top;\n",
       "    }\n",
       "\n",
       "    .dataframe thead th {\n",
       "        text-align: right;\n",
       "    }\n",
       "</style>\n",
       "<table border=\"1\" class=\"dataframe\">\n",
       "  <thead>\n",
       "    <tr style=\"text-align: right;\">\n",
       "      <th></th>\n",
       "      <th>numbers</th>\n",
       "      <th>colors</th>\n",
       "    </tr>\n",
       "  </thead>\n",
       "  <tbody>\n",
       "    <tr>\n",
       "      <th>0</th>\n",
       "      <td>1</td>\n",
       "      <td>red</td>\n",
       "    </tr>\n",
       "    <tr>\n",
       "      <th>1</th>\n",
       "      <td>2</td>\n",
       "      <td>white</td>\n",
       "    </tr>\n",
       "    <tr>\n",
       "      <th>2</th>\n",
       "      <td>3</td>\n",
       "      <td>blue</td>\n",
       "    </tr>\n",
       "  </tbody>\n",
       "</table>\n",
       "</div>"
      ],
      "text/plain": [
       "   numbers colors\n",
       "0        1    red\n",
       "1        2  white\n",
       "2        3   blue"
      ]
     },
     "execution_count": 8,
     "metadata": {},
     "output_type": "execute_result"
    }
   ],
   "source": [
    "df"
   ]
  },
  {
   "cell_type": "code",
   "execution_count": null,
   "metadata": {},
   "outputs": [],
   "source": []
  }
 ],
 "metadata": {
  "kernelspec": {
   "display_name": "Python 3",
   "language": "python",
   "name": "python3"
  },
  "language_info": {
   "codemirror_mode": {
    "name": "ipython",
    "version": 3
   },
   "file_extension": ".py",
   "mimetype": "text/x-python",
   "name": "python",
   "nbconvert_exporter": "python",
   "pygments_lexer": "ipython3",
   "version": "3.7.7"
  }
 },
 "nbformat": 4,
 "nbformat_minor": 4
}
