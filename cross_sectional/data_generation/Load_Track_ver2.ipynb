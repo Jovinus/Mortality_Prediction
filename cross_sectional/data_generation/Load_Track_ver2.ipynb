{
 "cells": [
  {
   "cell_type": "code",
   "execution_count": 1,
   "metadata": {},
   "outputs": [],
   "source": [
    "import pandas as pd\n",
    "pd.options.display.max_columns = None"
   ]
  },
  {
   "cell_type": "code",
   "execution_count": 2,
   "metadata": {},
   "outputs": [
    {
     "data": {
      "text/html": [
       "<div>\n",
       "<style scoped>\n",
       "    .dataframe tbody tr th:only-of-type {\n",
       "        vertical-align: middle;\n",
       "    }\n",
       "\n",
       "    .dataframe tbody tr th {\n",
       "        vertical-align: top;\n",
       "    }\n",
       "\n",
       "    .dataframe thead th {\n",
       "        text-align: right;\n",
       "    }\n",
       "</style>\n",
       "<table border=\"1\" class=\"dataframe\">\n",
       "  <thead>\n",
       "    <tr style=\"text-align: right;\">\n",
       "      <th></th>\n",
       "      <th>caseid</th>\n",
       "      <th>tname</th>\n",
       "      <th>tid</th>\n",
       "    </tr>\n",
       "  </thead>\n",
       "  <tbody>\n",
       "    <tr>\n",
       "      <th>0</th>\n",
       "      <td>1</td>\n",
       "      <td>BIS/BIS</td>\n",
       "      <td>fd869e25ba82a66cc95b38ed47110bf4f14bb368</td>\n",
       "    </tr>\n",
       "    <tr>\n",
       "      <th>1</th>\n",
       "      <td>1</td>\n",
       "      <td>BIS/EEG1_WAV</td>\n",
       "      <td>0aa685df768489a18a5e9f53af0d83bf60890c73</td>\n",
       "    </tr>\n",
       "    <tr>\n",
       "      <th>2</th>\n",
       "      <td>1</td>\n",
       "      <td>BIS/EEG2_WAV</td>\n",
       "      <td>ad13b2c39b19193c8ae4a2de4f8315f18d61a57e</td>\n",
       "    </tr>\n",
       "    <tr>\n",
       "      <th>3</th>\n",
       "      <td>1</td>\n",
       "      <td>BIS/EMG</td>\n",
       "      <td>2525603efe18d982764dbca457affe7a45e766a9</td>\n",
       "    </tr>\n",
       "    <tr>\n",
       "      <th>4</th>\n",
       "      <td>1</td>\n",
       "      <td>BIS/SEF</td>\n",
       "      <td>1c91aec859304840dec75acf4a35da78be0e8ef0</td>\n",
       "    </tr>\n",
       "  </tbody>\n",
       "</table>\n",
       "</div>"
      ],
      "text/plain": [
       "   caseid         tname                                       tid\n",
       "0       1       BIS/BIS  fd869e25ba82a66cc95b38ed47110bf4f14bb368\n",
       "1       1  BIS/EEG1_WAV  0aa685df768489a18a5e9f53af0d83bf60890c73\n",
       "2       1  BIS/EEG2_WAV  ad13b2c39b19193c8ae4a2de4f8315f18d61a57e\n",
       "3       1       BIS/EMG  2525603efe18d982764dbca457affe7a45e766a9\n",
       "4       1       BIS/SEF  1c91aec859304840dec75acf4a35da78be0e8ef0"
      ]
     },
     "execution_count": 2,
     "metadata": {},
     "output_type": "execute_result"
    }
   ],
   "source": [
    "df = pd.read_csv('https://api.vitaldb.net/trks')\n",
    "df.head()"
   ]
  },
  {
   "cell_type": "code",
   "execution_count": 3,
   "metadata": {},
   "outputs": [
    {
     "data": {
      "text/plain": [
       "Solar8000/HR                6388\n",
       "Solar8000/PLETH_SPO2        6387\n",
       "Solar8000/PLETH_HR          6387\n",
       "Primus/CO2                  6363\n",
       "Primus/SET_AGE              6362\n",
       "                            ... \n",
       "EV1000/SQI                     1\n",
       "Solar8000/ST_V5                1\n",
       "Vigileo/ART_MBP                1\n",
       "CardioQ/SVR                    1\n",
       "Solar8000/VENT_FLOW_TRIG       1\n",
       "Name: tname, Length: 208, dtype: int64"
      ]
     },
     "execution_count": 3,
     "metadata": {},
     "output_type": "execute_result"
    }
   ],
   "source": [
    "df['tname'].value_counts()"
   ]
  },
  {
   "cell_type": "code",
   "execution_count": 4,
   "metadata": {},
   "outputs": [],
   "source": [
    "art_set = set(df[df['tname'].isin(['Solar8000/ART_SBP'])]['caseid'])\n",
    "nibp_set = set(df[df['tname'].isin(['Solar8000/NIBP_SBP'])]['caseid'])"
   ]
  },
  {
   "cell_type": "code",
   "execution_count": 5,
   "metadata": {},
   "outputs": [
    {
     "data": {
      "text/plain": [
       "3096"
      ]
     },
     "execution_count": 5,
     "metadata": {},
     "output_type": "execute_result"
    }
   ],
   "source": [
    "len(art_set & nibp_set)"
   ]
  },
  {
   "cell_type": "markdown",
   "metadata": {},
   "source": [
    "### SBP"
   ]
  },
  {
   "cell_type": "code",
   "execution_count": 6,
   "metadata": {},
   "outputs": [
    {
     "name": "stdout",
     "output_type": "stream",
     "text": [
      "ART_SBP :  3725\n",
      "NIBP_SBP :  5752\n"
     ]
    }
   ],
   "source": [
    "print('ART_SBP : ', df['tname'].isin(['Solar8000/ART_SBP']).sum())\n",
    "print('NIBP_SBP : ', df['tname'].isin(['Solar8000/NIBP_SBP']).sum())"
   ]
  },
  {
   "cell_type": "markdown",
   "metadata": {},
   "source": [
    "* ART와 NIBP가 같이 있는 경우에는 다시 ART를 우선시해서"
   ]
  },
  {
   "cell_type": "markdown",
   "metadata": {},
   "source": [
    "### MBP"
   ]
  },
  {
   "cell_type": "code",
   "execution_count": 7,
   "metadata": {},
   "outputs": [
    {
     "name": "stdout",
     "output_type": "stream",
     "text": [
      "ART_MBP :  3725\n",
      "NIBP_MBP :  5752\n"
     ]
    }
   ],
   "source": [
    "print('ART_MBP : ', df['tname'].isin(['Solar8000/ART_SBP']).sum())\n",
    "print('NIBP_MBP : ', df['tname'].isin(['Solar8000/NIBP_SBP']).sum())"
   ]
  },
  {
   "cell_type": "markdown",
   "metadata": {},
   "source": [
    "### DBP"
   ]
  },
  {
   "cell_type": "code",
   "execution_count": 8,
   "metadata": {},
   "outputs": [
    {
     "name": "stdout",
     "output_type": "stream",
     "text": [
      "ART_DBP :  3725\n",
      "NIBP_DBP :  5752\n"
     ]
    }
   ],
   "source": [
    "print('ART_DBP : ', df['tname'].isin(['Solar8000/ART_DBP']).sum())\n",
    "print('NIBP_DBP : ', df['tname'].isin(['Solar8000/NIBP_DBP']).sum())"
   ]
  },
  {
   "cell_type": "markdown",
   "metadata": {},
   "source": [
    "### HR"
   ]
  },
  {
   "cell_type": "code",
   "execution_count": 9,
   "metadata": {},
   "outputs": [
    {
     "name": "stdout",
     "output_type": "stream",
     "text": [
      "Solar8000/HR :  6388\n",
      "Solar8000/PLETH_HR :  6387\n",
      "Vigilance/HR_AVG :  53\n",
      "CardioQ/HR :  29\n"
     ]
    }
   ],
   "source": [
    "print('Solar8000/HR : ', df['tname'].isin(['Solar8000/HR']).sum())\n",
    "print('Solar8000/PLETH_HR : ', df['tname'].isin(['Solar8000/PLETH_HR']).sum())\n",
    "print('Vigilance/HR_AVG : ', df['tname'].isin(['Vigilance/HR_AVG']).sum())\n",
    "print('CardioQ/HR : ', df['tname'].isin(['CardioQ/HR']).sum())"
   ]
  },
  {
   "cell_type": "markdown",
   "metadata": {},
   "source": [
    "### BT"
   ]
  },
  {
   "cell_type": "code",
   "execution_count": 10,
   "metadata": {},
   "outputs": [
    {
     "name": "stdout",
     "output_type": "stream",
     "text": [
      "Solar8000/BT1 :  5889\n",
      "Solar8000/BT2 :  864\n"
     ]
    }
   ],
   "source": [
    "print('Solar8000/BT1 : ', df['tname'].isin(['Solar8000/BT1']).sum())\n",
    "print('Solar8000/BT2 : ', df['tname'].isin(['Solar8000/BT2']).sum())"
   ]
  },
  {
   "cell_type": "markdown",
   "metadata": {},
   "source": [
    "### SpO2"
   ]
  },
  {
   "cell_type": "code",
   "execution_count": 11,
   "metadata": {},
   "outputs": [
    {
     "name": "stdout",
     "output_type": "stream",
     "text": [
      "Solar8000/PLETH_SPO2:  6387\n"
     ]
    }
   ],
   "source": [
    "print('Solar8000/PLETH_SPO2: ', df['tname'].isin(['Solar8000/PLETH_SPO2']).sum())"
   ]
  },
  {
   "cell_type": "markdown",
   "metadata": {},
   "source": [
    "### EtCO2"
   ]
  },
  {
   "cell_type": "code",
   "execution_count": 12,
   "metadata": {},
   "outputs": [
    {
     "name": "stdout",
     "output_type": "stream",
     "text": [
      "Solar8000/ETCO2:  6243\n",
      "Primus/ETCO2:  6340\n"
     ]
    }
   ],
   "source": [
    "print('Solar8000/ETCO2: ', df['tname'].isin(['Solar8000/ETCO2']).sum())\n",
    "print('Primus/ETCO2: ', df['tname'].isin(['Primus/ETCO2']).sum())"
   ]
  },
  {
   "cell_type": "markdown",
   "metadata": {},
   "source": [
    "### FiO2"
   ]
  },
  {
   "cell_type": "code",
   "execution_count": 13,
   "metadata": {},
   "outputs": [
    {
     "name": "stdout",
     "output_type": "stream",
     "text": [
      "Solar8000/FIO2:  6240\n",
      "Solar8000/VENT_SET_FIO2:  2213\n",
      "Primus/FIO2:  6336\n",
      "Primus/SET_FIO2:  0\n"
     ]
    }
   ],
   "source": [
    "print('Solar8000/FIO2: ', df['tname'].isin(['Solar8000/FIO2']).sum())\n",
    "print('Solar8000/VENT_SET_FIO2: ', df['tname'].isin(['Solar8000/VENT_SET_FIO2']).sum())\n",
    "print('Primus/FIO2: ', df['tname'].isin(['Primus/FIO2']).sum())\n",
    "print('Primus/SET_FIO2: ', df['tname'].isin(['Primus/SET_FIO2']).sum())"
   ]
  },
  {
   "cell_type": "markdown",
   "metadata": {},
   "source": [
    "### STII"
   ]
  },
  {
   "cell_type": "code",
   "execution_count": 14,
   "metadata": {},
   "outputs": [
    {
     "name": "stdout",
     "output_type": "stream",
     "text": [
      "Solar8000/ST_II:  5979\n"
     ]
    }
   ],
   "source": [
    "print('Solar8000/ST_II: ', df['tname'].isin(['Solar8000/ST_II']).sum())"
   ]
  },
  {
   "cell_type": "code",
   "execution_count": 15,
   "metadata": {},
   "outputs": [
    {
     "data": {
      "text/html": [
       "<div>\n",
       "<style scoped>\n",
       "    .dataframe tbody tr th:only-of-type {\n",
       "        vertical-align: middle;\n",
       "    }\n",
       "\n",
       "    .dataframe tbody tr th {\n",
       "        vertical-align: top;\n",
       "    }\n",
       "\n",
       "    .dataframe thead th {\n",
       "        text-align: right;\n",
       "    }\n",
       "</style>\n",
       "<table border=\"1\" class=\"dataframe\">\n",
       "  <thead>\n",
       "    <tr style=\"text-align: right;\">\n",
       "      <th></th>\n",
       "      <th>caseid</th>\n",
       "      <th>tname</th>\n",
       "      <th>tid</th>\n",
       "    </tr>\n",
       "  </thead>\n",
       "  <tbody>\n",
       "    <tr>\n",
       "      <th>62</th>\n",
       "      <td>1</td>\n",
       "      <td>Solar8000/HR</td>\n",
       "      <td>6326f61f2b89f8afb550c102fd1b9c9e44249fe0</td>\n",
       "    </tr>\n",
       "    <tr>\n",
       "      <th>149</th>\n",
       "      <td>2</td>\n",
       "      <td>Solar8000/HR</td>\n",
       "      <td>6a4d5f0bfe719c853f927c4443d1e191235091d9</td>\n",
       "    </tr>\n",
       "    <tr>\n",
       "      <th>234</th>\n",
       "      <td>3</td>\n",
       "      <td>Solar8000/HR</td>\n",
       "      <td>32412e5c00538be1b90caa7afd9356ab3f958210</td>\n",
       "    </tr>\n",
       "    <tr>\n",
       "      <th>325</th>\n",
       "      <td>4</td>\n",
       "      <td>Solar8000/HR</td>\n",
       "      <td>e7b604a97b88f410b52e05f88182dd7861b645d8</td>\n",
       "    </tr>\n",
       "    <tr>\n",
       "      <th>422</th>\n",
       "      <td>5</td>\n",
       "      <td>Solar8000/HR</td>\n",
       "      <td>70bb5af22bd71a852ae47543ae12daad54090361</td>\n",
       "    </tr>\n",
       "    <tr>\n",
       "      <th>...</th>\n",
       "      <td>...</td>\n",
       "      <td>...</td>\n",
       "      <td>...</td>\n",
       "    </tr>\n",
       "    <tr>\n",
       "      <th>536745</th>\n",
       "      <td>6384</td>\n",
       "      <td>Solar8000/HR</td>\n",
       "      <td>19e25a739f102aa582b664fa6638534d1e1039c1</td>\n",
       "    </tr>\n",
       "    <tr>\n",
       "      <th>536828</th>\n",
       "      <td>6385</td>\n",
       "      <td>Solar8000/HR</td>\n",
       "      <td>b7b299e885c89876a5fd0d2dace0a1da96611adc</td>\n",
       "    </tr>\n",
       "    <tr>\n",
       "      <th>536910</th>\n",
       "      <td>6386</td>\n",
       "      <td>Solar8000/HR</td>\n",
       "      <td>7df4cf17c3d605f9df251722fc53158de3eb44f6</td>\n",
       "    </tr>\n",
       "    <tr>\n",
       "      <th>536994</th>\n",
       "      <td>6387</td>\n",
       "      <td>Solar8000/HR</td>\n",
       "      <td>0658a0b6a670fc1c75ed3966678e964a513bb5fb</td>\n",
       "    </tr>\n",
       "    <tr>\n",
       "      <th>537080</th>\n",
       "      <td>6388</td>\n",
       "      <td>Solar8000/HR</td>\n",
       "      <td>ae8c2b1e6d67843ebd14f8725afb60d0b0fde2c1</td>\n",
       "    </tr>\n",
       "  </tbody>\n",
       "</table>\n",
       "<p>6388 rows × 3 columns</p>\n",
       "</div>"
      ],
      "text/plain": [
       "        caseid         tname                                       tid\n",
       "62           1  Solar8000/HR  6326f61f2b89f8afb550c102fd1b9c9e44249fe0\n",
       "149          2  Solar8000/HR  6a4d5f0bfe719c853f927c4443d1e191235091d9\n",
       "234          3  Solar8000/HR  32412e5c00538be1b90caa7afd9356ab3f958210\n",
       "325          4  Solar8000/HR  e7b604a97b88f410b52e05f88182dd7861b645d8\n",
       "422          5  Solar8000/HR  70bb5af22bd71a852ae47543ae12daad54090361\n",
       "...        ...           ...                                       ...\n",
       "536745    6384  Solar8000/HR  19e25a739f102aa582b664fa6638534d1e1039c1\n",
       "536828    6385  Solar8000/HR  b7b299e885c89876a5fd0d2dace0a1da96611adc\n",
       "536910    6386  Solar8000/HR  7df4cf17c3d605f9df251722fc53158de3eb44f6\n",
       "536994    6387  Solar8000/HR  0658a0b6a670fc1c75ed3966678e964a513bb5fb\n",
       "537080    6388  Solar8000/HR  ae8c2b1e6d67843ebd14f8725afb60d0b0fde2c1\n",
       "\n",
       "[6388 rows x 3 columns]"
      ]
     },
     "execution_count": 15,
     "metadata": {},
     "output_type": "execute_result"
    }
   ],
   "source": [
    "df[df['tname'] == 'Solar8000/HR']"
   ]
  },
  {
   "cell_type": "code",
   "execution_count": 16,
   "metadata": {},
   "outputs": [],
   "source": [
    "tmp = pd.read_csv('https://api.vitaldb.net/' + '6326f61f2b89f8afb550c102fd1b9c9e44249fe0')\n",
    "tmp['Time_diff'] = tmp['Time'] - tmp['Time'].tail(1).values[0]"
   ]
  },
  {
   "cell_type": "markdown",
   "metadata": {},
   "source": [
    "## Get Data"
   ]
  },
  {
   "cell_type": "code",
   "execution_count": 20,
   "metadata": {},
   "outputs": [],
   "source": [
    "def load_data(data, track_nm):\n",
    "    tmp = pd.read_csv('https://api.vitaldb.net/' + data['tid'].values[0])\n",
    "    tmp['Time_diff'] = tmp['Time'] - tmp['Time'].tail(1).values[0]\n",
    "    return pd.DataFrame([tmp[(tmp['Time_diff'] < (-60*30)) & (tmp['Time_diff'] > (-60*60))][track_nm].mean(), tmp[(tmp['Time_diff'] < (-60*30)) & (tmp['Time_diff'] > (-60*60))][track_nm].std()])"
   ]
  },
  {
   "cell_type": "markdown",
   "metadata": {
    "jupyter": {
     "outputs_hidden": true
    }
   },
   "source": [
    "#### for loop..\n",
    "from tqdm.notebook import tqdm\n",
    "tqdm.pandas()\n",
    "df[df['tname'].isin(['Solar8000/BT1'])][0:10].groupby(['caseid']).progress_apply(lambda x: load_data(x, 'Solar8000/BT1')).reset_index().rename(columns={'level_1':'cal_type',0:'Value'})"
   ]
  },
  {
   "cell_type": "code",
   "execution_count": 21,
   "metadata": {},
   "outputs": [],
   "source": [
    "track_list = [   \n",
    "              ## HR\n",
    "              'Solar8000/HR', \n",
    "              ## BT\n",
    "              'Solar8000/BT1', \n",
    "              ## SPO2\n",
    "              'Solar8000/PLETH_SPO2',\n",
    "              ## FIO2\n",
    "              'Solar8000/FIO2', \n",
    "              ## ST_II\n",
    "              'Solar8000/ST_II', \n",
    "              ## ETCO2\n",
    "              'Solar8000/ETCO2', \n",
    "              ## SBP\n",
    "              'Solar8000/ART_SBP', 'Solar8000/NIBP_SBP',\n",
    "              ## DBP\n",
    "              'Solar8000/NIBP_DBP', 'Solar8000/ART_DBP',\n",
    "              ## MBP\n",
    "              'Solar8000/NIBP_MBP', 'Solar8000/ART_MBP'\n",
    "             ]"
   ]
  },
  {
   "cell_type": "code",
   "execution_count": null,
   "metadata": {},
   "outputs": [
    {
     "data": {
      "application/vnd.jupyter.widget-view+json": {
       "model_id": "ca480d0f60ca458a86d6a3d9be1fefb9",
       "version_major": 2,
       "version_minor": 0
      },
      "text/plain": [
       "HBox(children=(FloatProgress(value=0.0, max=6387.0), HTML(value='')))"
      ]
     },
     "metadata": {},
     "output_type": "display_data"
    }
   ],
   "source": [
    "from tqdm.notebook import tqdm\n",
    "\n",
    "for track_nm in track_list:\n",
    "    tqdm.pandas()\n",
    "    df[df['tname'].isin([track_nm])].groupby(['caseid'])\\\n",
    "    .progress_apply(lambda x: load_data(x, track_nm=track_nm))\\\n",
    "    .reset_index().rename(columns={'level_1':'cal_type',0:'Value'})\\\n",
    "    .to_csv('./{}.csv'.format(track_nm.split('/')[1]), index=False)"
   ]
  },
  {
   "cell_type": "markdown",
   "metadata": {},
   "source": [
    "tmp = pd.DataFrame()\n",
    "for track_nm in track_list:\n",
    "    track_nm = track_nm.split('/')[1]\n",
    "    df_tmp = pd.read_csv('./{}.csv'.format(track_nm))\n",
    "    tmp = pd.pivot_table(data=df_tmp, values='Value', index='caseid', columns='cal_type')\n",
    "    tmp.columns.name = None\n",
    "    tmp.reset_index().rename(columns={0:'mean_{}'.format(track_nm),1:'std_{}'.format(track_nm)}).to_csv('./{}_pivot.csv'.format(track_nm), index=False)"
   ]
  },
  {
   "cell_type": "code",
   "execution_count": null,
   "metadata": {},
   "outputs": [],
   "source": [
    "tmp = pd.DataFrame()\n",
    "for i, track_nm in enumerate(track_list):\n",
    "    track_nm = track_nm.split('/')[1]\n",
    "    df_tmp = pd.read_csv('./{}.csv'.format(track_nm))\n",
    "    df_tmp = pd.pivot_table(data=df_tmp, values='Value', index='caseid', columns='cal_type')\n",
    "    df_tmp.columns.name = None\n",
    "    df_tmp = df_tmp.reset_index().rename(columns={0:'mean_{}'.format(track_nm),1:'std_{}'.format(track_nm)})\n",
    "    if i == 0:\n",
    "        tmp = tmp.append(df_tmp)\n",
    "    else:\n",
    "        tmp = pd.merge(tmp, df_tmp, how='outer')"
   ]
  },
  {
   "cell_type": "code",
   "execution_count": null,
   "metadata": {},
   "outputs": [],
   "source": [
    "tmp.head()"
   ]
  },
  {
   "cell_type": "code",
   "execution_count": null,
   "metadata": {},
   "outputs": [],
   "source": [
    "bp_list = ['DBP', 'SBP', 'MBP']\n",
    "for bp_type in bp_list:\n",
    "    tmp['mean_' + bp_type] = tmp['mean_ART_' + bp_type]\n",
    "    tmp.loc[tmp['mean_' + bp_type].isnull(), 'mean_' + bp_type] = tmp.loc[tmp['mean_' + bp_type].isnull(), 'mean_NIBP_' + bp_type]\n",
    "    tmp['std_' + bp_type] = tmp['std_ART_' + bp_type]\n",
    "    tmp.loc[tmp['std_' + bp_type].isnull(), 'std_' + bp_type] = tmp.loc[tmp['std_' + bp_type].isnull(), 'std_NIBP_' + bp_type]"
   ]
  },
  {
   "cell_type": "code",
   "execution_count": null,
   "metadata": {},
   "outputs": [],
   "source": [
    "#tmp['mean_DBP'] = tmp['mean_ART_DBP']\n",
    "#tmp.loc[tmp['mean_DBP'].isnull(), 'mean_DBP'] = tmp.loc[tmp['mean_DBP'].isnull(), 'mean_NIBP_DBP']\n",
    "#tmp['std_DBP'] = tmp['std_ART_DBP']\n",
    "#tmp.loc[tmp['std_DBP'].isnull(), 'std_DBP'] = tmp.loc[tmp['std_DBP'].isnull(), 'std_NIBP_DBP']\n",
    "\n",
    "#tmp['mean_MBP'] = tmp['mean_ART_MBP']\n",
    "#tmp.loc[tmp['mean_MBP'].isnull(), 'mean_MBP'] = tmp.loc[tmp['mean_MBP'].isnull(), 'mean_NIBP_MBP']\n",
    "#tmp['std_MBP'] = tmp['std_ART_MBP']\n",
    "#tmp.loc[tmp['std_MBP'].isnull(), 'std_MBP'] = tmp.loc[tmp['std_MBP'].isnull(), 'std_NIBP_MBP']\n",
    "\n",
    "#tmp['mean_SBP'] = tmp['mean_ART_SBP']\n",
    "#tmp.loc[tmp['mean_SBP'].isnull(), 'mean_SBP'] = tmp.loc[tmp['mean_SBP'].isnull(), 'mean_NIBP_SBP']\n",
    "#tmp['std_SBP'] = tmp['std_ART_SBP']\n",
    "#tmp.loc[tmp['std_SBP'].isnull(), 'std_SBP'] = tmp.loc[tmp['std_SBP'].isnull(), 'std_NIBP_SBP']"
   ]
  },
  {
   "cell_type": "code",
   "execution_count": null,
   "metadata": {},
   "outputs": [],
   "source": [
    "tmp.to_csv('./data_intraop.csv', index=False)"
   ]
  },
  {
   "cell_type": "code",
   "execution_count": null,
   "metadata": {},
   "outputs": [],
   "source": [
    "df = pd.read_csv('./data_preop_preprocessed.csv')\n",
    "df.head()"
   ]
  },
  {
   "cell_type": "code",
   "execution_count": null,
   "metadata": {},
   "outputs": [],
   "source": [
    "df_final = pd.merge(df, tmp, how='left', on='caseid')\n",
    "df_final.head()"
   ]
  },
  {
   "cell_type": "code",
   "execution_count": null,
   "metadata": {},
   "outputs": [],
   "source": [
    "import numpy as np\n",
    "df_final['preop_pft'] = np.where(df_final['preop_pft'].str.contains('Normal'), 0, 1)"
   ]
  },
  {
   "cell_type": "code",
   "execution_count": null,
   "metadata": {},
   "outputs": [],
   "source": [
    "df_final.to_csv('./data_preprocessed.csv', index=False)"
   ]
  }
 ],
 "metadata": {
  "kernelspec": {
   "display_name": "Python 3",
   "language": "python",
   "name": "python3"
  },
  "language_info": {
   "codemirror_mode": {
    "name": "ipython",
    "version": 3
   },
   "file_extension": ".py",
   "mimetype": "text/x-python",
   "name": "python",
   "nbconvert_exporter": "python",
   "pygments_lexer": "ipython3",
   "version": "3.7.7"
  }
 },
 "nbformat": 4,
 "nbformat_minor": 4
}
